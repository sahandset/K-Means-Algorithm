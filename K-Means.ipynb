{
 "cells": [
  {
   "cell_type": "code",
   "execution_count": 49,
   "metadata": {},
   "outputs": [
    {
     "name": "stdout",
     "output_type": "stream",
     "text": [
      "Enter a k-value: 5\n",
      "[[-1 -9]\n",
      " [ 4 -5]\n",
      " [ 2 13]\n",
      " [ 9  1]\n",
      " [-8  3]]\n"
     ]
    },
    {
     "data": {
      "image/png": "[encoded data removed]",
      "text/plain": [
       "<Figure size 432x288 with 1 Axes>"
      ]
     },
     "metadata": {
      "needs_background": "light"
     },
     "output_type": "display_data"
    }
   ],
   "source": [
    "import numpy as np\n",
    "import pandas as pd\n",
    "import matplotlib.pyplot as plt\n",
    "import random as rand\n",
    "from sklearn.datasets import make_blobs\n",
    "\n",
    "# n_samples: The total number of points equally divided among clusters\n",
    "# n_features: The number of features for each sample. (i.e. The length of the vectors)\n",
    "# centers: The number of centers to generate, or the fixed center locations.\n",
    "# cluster_std: The standard deviation of the clusters.\n",
    "# optionally you can use center_box which is a bounding box for each \n",
    "# cluster center when centers are generated at random.\n",
    "X, _ = make_blobs(n_samples=75, centers=5, n_features=2, cluster_std=2.2)\n",
    "# Store data in a pandas dataframe.\n",
    "df = pd.DataFrame(X)\n",
    "# Write to a csv file.\n",
    "df.to_csv('my_data.csv', index=False, header=False)\n",
    "\n",
    "\n",
    "# Reading in the file\n",
    "file_path = 'my_data.csv'\n",
    "data = pd.read_csv(file_path,header=None)\n",
    "data = data.to_numpy()\n",
    "\n",
    "# Taking a k-value from a user\n",
    "k = int(input(\"Enter a k-value: \"))\n",
    "\n",
    "# Determining Euclidean Distance between each vector x and centroid z\n",
    "def euclideanDistance(xi, zi):\n",
    "    return(np.sqrt(np.sum((xi - zi)**2)))\n",
    "\n",
    "# K-Means\n",
    "def kMeans(data, k):\n",
    "    xc = np.random.randint(min(data[:,0]), high=max(data[:,0]), size=k)\n",
    "    yc = np.random.randint(min(data[:,0]), high=max(data[:,0]), size=k)\n",
    "    oldCenters = zip(xc, yc)\n",
    "    clusters = [-1] * len(data)\n",
    "    newCenters = np.array(list(zip(xc, yc)))\n",
    "    print(newCenters)\n",
    "\n",
    "    for a in range(1000):\n",
    "        for i in range(len(data)):\n",
    "            temp = []\n",
    "            for j in range(k):\n",
    "                temp.append(euclideanDistance(data[i], newCenters[j]))\n",
    "            clusters[i] = np.argmin(temp)\n",
    "    \n",
    "        for i in range(k):\n",
    "            n, x, y = 0, 0, 0\n",
    "            for j in range(len(data)):\n",
    "                if (clusters[j] == i):\n",
    "                    n += 1\n",
    "                    x += data[j,0]\n",
    "                    y += data[j,1]\n",
    "            x = x / n if n != 0 else 0\n",
    "            y = y / n if n != 0 else 0\n",
    "            newCenters[i,0] = x\n",
    "            newCenters[i,1] = y\n",
    "    return newCenters, clusters\n",
    "\n",
    "# Plotting \n",
    "def plots(data, k):\n",
    "    pltCenters, pltClusters = kMeans(data, k)\n",
    "    for i in range(k):\n",
    "        arr = []\n",
    "        for j in range(len(pltClusters)):\n",
    "            if pltClusters[j] == i:\n",
    "                arr.append(data[j])\n",
    "        arr = np.array(arr)\n",
    "        plt.scatter(arr[:,0], arr[:,1])\n",
    "    plt.scatter(pltCenters[:,0], pltCenters[:,1])\n",
    "    plt.show()\n",
    "\n",
    "plots(data, k)"
   ]
  }
 ],
 "metadata": {
  "kernelspec": {
   "display_name": "Python 3",
   "language": "python",
   "name": "python3"
  },
  "language_info": {
   "codemirror_mode": {
    "name": "ipython",
    "version": 3
   },
   "file_extension": ".py",
   "mimetype": "text/x-python",
   "name": "python",
   "nbconvert_exporter": "python",
   "pygments_lexer": "ipython3",
   "version": "3.7.4"
  }
 },
 "nbformat": 4,
 "nbformat_minor": 2
}
